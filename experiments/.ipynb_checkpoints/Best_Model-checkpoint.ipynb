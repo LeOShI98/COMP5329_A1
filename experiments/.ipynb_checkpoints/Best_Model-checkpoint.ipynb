{
 "cells": [
  {
   "cell_type": "markdown",
   "metadata": {},
   "source": [
    "## Demonstration of how to set up, train, and test a fine tuned MLP"
   ]
  },
  {
   "cell_type": "code",
   "execution_count": 1,
   "metadata": {},
   "outputs": [
    {
     "name": "stderr",
     "output_type": "stream",
     "text": [
      "\n",
      "Bad key \"text.kerning_factor\" on line 4 in\n",
      "C:\\Users\\James\\Anaconda3\\envs\\pytorch\\lib\\site-packages\\matplotlib\\mpl-data\\stylelib\\_classic_test_patch.mplstyle.\n",
      "You probably need to get an updated matplotlibrc file from\n",
      "http://github.com/matplotlib/matplotlib/blob/master/matplotlibrc.template\n",
      "or from the matplotlib source distribution\n"
     ]
    }
   ],
   "source": [
    "import sys\n",
    "sys.path.append(\"../\")\n",
    "from algorithms import Evals"
   ]
  },
  {
   "cell_type": "markdown",
   "metadata": {},
   "source": [
    "### Train & Test MLP"
   ]
  },
  {
   "cell_type": "code",
   "execution_count": 2,
   "metadata": {},
   "outputs": [
    {
     "name": "stdout",
     "output_type": "stream",
     "text": [
      "-----------------Running: best_model----------------------\n",
      "Epoch: 5  Training Loss: 1.407723534036818  Time (sec) per epoch: 4.692312002182007\n",
      "Epoch: 10  Training Loss: 1.3039828944066083  Time (sec) per epoch: 4.6391377449035645\n",
      "Epoch: 15  Training Loss: 1.2533754207686494  Time (sec) per epoch: 4.584749221801758\n",
      "Epoch: 20  Training Loss: 1.2141800495253032  Time (sec) per epoch: 4.570814847946167\n",
      "Epoch: 25  Training Loss: 1.1910500447474073  Time (sec) per epoch: 4.593538761138916\n",
      "Epoch: 30  Training Loss: 1.1693564458421821  Time (sec) per epoch: 4.669029951095581\n",
      "Epoch: 35  Training Loss: 1.1533747400005812  Time (sec) per epoch: 4.68681788444519\n",
      "Epoch: 40  Training Loss: 1.1403588230682709  Time (sec) per epoch: 4.620774030685425\n",
      "Epoch: 45  Training Loss: 1.1326741193086136  Time (sec) per epoch: 4.5795769691467285\n",
      "Epoch: 50  Training Loss: 1.1190447795714982  Time (sec) per epoch: 4.840949535369873\n"
     ]
    }
   ],
   "source": [
    "eval_dict = Evals.set_exp(exps= ['best_model'], exp_name= 'best_model')\n",
    "eval_df = Evals.run_exp(exp_dict= eval_dict, epochs= 50, plot=False, best_model=True)"
   ]
  },
  {
   "cell_type": "code",
   "execution_count": 3,
   "metadata": {},
   "outputs": [
    {
     "data": {
      "text/html": [
       "<div>\n",
       "<style scoped>\n",
       "    .dataframe tbody tr th:only-of-type {\n",
       "        vertical-align: middle;\n",
       "    }\n",
       "\n",
       "    .dataframe tbody tr th {\n",
       "        vertical-align: top;\n",
       "    }\n",
       "\n",
       "    .dataframe thead th {\n",
       "        text-align: right;\n",
       "    }\n",
       "</style>\n",
       "<table border=\"1\" class=\"dataframe\">\n",
       "  <thead>\n",
       "    <tr style=\"text-align: right;\">\n",
       "      <th></th>\n",
       "      <th>Hyperparameters</th>\n",
       "      <th>loss</th>\n",
       "      <th>train_acc</th>\n",
       "      <th>test_acc</th>\n",
       "      <th>train_precision</th>\n",
       "      <th>test_precision</th>\n",
       "      <th>train_recall</th>\n",
       "      <th>test_recall</th>\n",
       "      <th>train_f1</th>\n",
       "      <th>test_f1</th>\n",
       "      <th>times</th>\n",
       "    </tr>\n",
       "  </thead>\n",
       "  <tbody>\n",
       "    <tr>\n",
       "      <th>0</th>\n",
       "      <td>best_model</td>\n",
       "      <td>[1.8144158791359206, 1.5960874759837054, 1.505...</td>\n",
       "      <td>0.772525</td>\n",
       "      <td>0.5224</td>\n",
       "      <td>0.758592</td>\n",
       "      <td>0.504743</td>\n",
       "      <td>0.772245</td>\n",
       "      <td>0.5224</td>\n",
       "      <td>0.745697</td>\n",
       "      <td>0.501411</td>\n",
       "      <td>233.963441</td>\n",
       "    </tr>\n",
       "  </tbody>\n",
       "</table>\n",
       "</div>"
      ],
      "text/plain": [
       "  Hyperparameters                                               loss  \\\n",
       "0      best_model  [1.8144158791359206, 1.5960874759837054, 1.505...   \n",
       "\n",
       "   train_acc  test_acc  train_precision  test_precision  train_recall  \\\n",
       "0   0.772525    0.5224         0.758592        0.504743      0.772245   \n",
       "\n",
       "   test_recall  train_f1   test_f1       times  \n",
       "0       0.5224  0.745697  0.501411  233.963441  "
      ]
     },
     "execution_count": 3,
     "metadata": {},
     "output_type": "execute_result"
    }
   ],
   "source": [
    "eval_df"
   ]
  }
 ],
 "metadata": {
  "kernelspec": {
   "display_name": "Python 3",
   "language": "python",
   "name": "python3"
  },
  "language_info": {
   "codemirror_mode": {
    "name": "ipython",
    "version": 3
   },
   "file_extension": ".py",
   "mimetype": "text/x-python",
   "name": "python",
   "nbconvert_exporter": "python",
   "pygments_lexer": "ipython3",
   "version": "3.6.13"
  },
  "vscode": {
   "interpreter": {
    "hash": "3c882730db67e28db1e924ef806594fad4161f4a410f43aebd253948128b358f"
   }
  }
 },
 "nbformat": 4,
 "nbformat_minor": 2
}
